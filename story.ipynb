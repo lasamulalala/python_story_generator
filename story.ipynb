{
 "cells": [
  {
   "cell_type": "code",
   "execution_count": 2,
   "id": "fd3880da",
   "metadata": {},
   "outputs": [],
   "source": [
    "import random\n",
    "import tkinter as tk\n",
    "from tkinter import ttk\n",
    "from tkinter import scrolledtext\n",
    "from ttkthemes import ThemedStyle\n",
    "\n",
    "# Word banks expanded\n",
    "names = ['Alice', 'Bob', 'Charlie', 'Diana', 'Ethan', 'Fiona', 'George', 'Hana', 'Ivan', 'Jaya']\n",
    "places = ['forest', 'desert', 'mountain', 'castle', 'space station', 'underwater city', 'ancient temple', 'haunted mansion']\n",
    "actions = ['discovered', 'fought', 'rescued', 'escaped', 'explored', 'stumbled upon', 'accidentally summoned', 'decoded']\n",
    "objects = ['a dragon', 'a secret map', 'a magic sword', 'a hidden treasure', 'a cursed mirror', 'a robotic dog', 'a time machine']\n",
    "adjectives = ['brave', 'curious', 'clumsy', 'clever', 'fearless', 'mischievous', 'determined', 'bold']\n",
    "\n",
    "# Story generation logic\n",
    "def generate_story():\n",
    "    name = random.choice(names)\n",
    "    place = random.choice(places)\n",
    "    action = random.choice(actions)\n",
    "    obj = random.choice(objects)\n",
    "    adj = random.choice(adjectives)\n",
    "\n",
    "    story = (\n",
    "        f\"Once upon a time, there was a {adj} adventurer named {name}.\\n\"\n",
    "        f\"One day, {name} ventured into the {place}, unaware of what awaited.\\n\"\n",
    "        f\"There, they {action} {obj}, which changed their life forever.\\n\"\n",
    "        f\"From that day on, {name}'s legend spread across the world.\\n\"\n",
    "        f\"The {place} was never the same again...\"\n",
    "    )\n",
    "\n",
    "    story_box.delete(1.0, tk.END)\n",
    "    story_box.insert(tk.INSERT, story)\n",
    "\n",
    "# GUI setup\n",
    "root = tk.Tk()\n",
    "root.title(\"🌟 Random Story Generator\")\n",
    "root.geometry(\"600x400\")\n",
    "\n",
    "style = ThemedStyle(root)\n",
    "style.set_theme(\"breeze\")\n",
    "\n",
    "main_frame = ttk.Frame(root, padding=20)\n",
    "main_frame.pack(fill=tk.BOTH, expand=True)\n",
    "\n",
    "generate_btn = ttk.Button(main_frame, text=\"Generate Story\", command=generate_story)\n",
    "generate_btn.pack(pady=10)\n",
    "\n",
    "story_box = scrolledtext.ScrolledText(main_frame, wrap=tk.WORD, width=70, height=15, font=(\"Arial\", 12))\n",
    "story_box.pack()\n",
    "\n",
    "root.mainloop()\n"
   ]
  }
 ],
 "metadata": {
  "kernelspec": {
   "display_name": "Python 3",
   "language": "python",
   "name": "python3"
  },
  "language_info": {
   "codemirror_mode": {
    "name": "ipython",
    "version": 3
   },
   "file_extension": ".py",
   "mimetype": "text/x-python",
   "name": "python",
   "nbconvert_exporter": "python",
   "pygments_lexer": "ipython3",
   "version": "3.8.10"
  }
 },
 "nbformat": 4,
 "nbformat_minor": 5
}
